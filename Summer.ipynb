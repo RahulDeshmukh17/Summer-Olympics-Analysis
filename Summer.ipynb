{
  "nbformat": 4,
  "nbformat_minor": 0,
  "metadata": {
    "colab": {
      "name": "Summer.ipynb",
      "provenance": []
    },
    "kernelspec": {
      "name": "python3",
      "display_name": "Python 3"
    },
    "language_info": {
      "name": "python"
    }
  },
  "cells": [
    {
      "cell_type": "code",
      "metadata": {
        "id": "CxY0A1_MUSNj"
      },
      "source": [
        "import pandas as pd\n",
        "import matplotlib.pyplot as plt"
      ],
      "execution_count": 1,
      "outputs": []
    },
    {
      "cell_type": "code",
      "metadata": {
        "id": "4cduhqTinbp2"
      },
      "source": [
        "df = pd.read_csv(\"summer.csv\")"
      ],
      "execution_count": 3,
      "outputs": []
    },
    {
      "cell_type": "code",
      "metadata": {
        "colab": {
          "base_uri": "https://localhost:8080/",
          "height": 203
        },
        "id": "G8BhkBCNng8t",
        "outputId": "a24c7e58-5961-469f-d57f-94be50be7966"
      },
      "source": [
        "df.head()"
      ],
      "execution_count": 4,
      "outputs": [
        {
          "output_type": "execute_result",
          "data": {
            "text/html": [
              "<div>\n",
              "<style scoped>\n",
              "    .dataframe tbody tr th:only-of-type {\n",
              "        vertical-align: middle;\n",
              "    }\n",
              "\n",
              "    .dataframe tbody tr th {\n",
              "        vertical-align: top;\n",
              "    }\n",
              "\n",
              "    .dataframe thead th {\n",
              "        text-align: right;\n",
              "    }\n",
              "</style>\n",
              "<table border=\"1\" class=\"dataframe\">\n",
              "  <thead>\n",
              "    <tr style=\"text-align: right;\">\n",
              "      <th></th>\n",
              "      <th>Year</th>\n",
              "      <th>City</th>\n",
              "      <th>Sport</th>\n",
              "      <th>Discipline</th>\n",
              "      <th>Athlete</th>\n",
              "      <th>Country</th>\n",
              "      <th>Gender</th>\n",
              "      <th>Event</th>\n",
              "      <th>Medal</th>\n",
              "    </tr>\n",
              "  </thead>\n",
              "  <tbody>\n",
              "    <tr>\n",
              "      <th>0</th>\n",
              "      <td>1896</td>\n",
              "      <td>Athens</td>\n",
              "      <td>Aquatics</td>\n",
              "      <td>Swimming</td>\n",
              "      <td>HAJOS, Alfred</td>\n",
              "      <td>HUN</td>\n",
              "      <td>Men</td>\n",
              "      <td>100M Freestyle</td>\n",
              "      <td>Gold</td>\n",
              "    </tr>\n",
              "    <tr>\n",
              "      <th>1</th>\n",
              "      <td>1896</td>\n",
              "      <td>Athens</td>\n",
              "      <td>Aquatics</td>\n",
              "      <td>Swimming</td>\n",
              "      <td>HERSCHMANN, Otto</td>\n",
              "      <td>AUT</td>\n",
              "      <td>Men</td>\n",
              "      <td>100M Freestyle</td>\n",
              "      <td>Silver</td>\n",
              "    </tr>\n",
              "    <tr>\n",
              "      <th>2</th>\n",
              "      <td>1896</td>\n",
              "      <td>Athens</td>\n",
              "      <td>Aquatics</td>\n",
              "      <td>Swimming</td>\n",
              "      <td>DRIVAS, Dimitrios</td>\n",
              "      <td>GRE</td>\n",
              "      <td>Men</td>\n",
              "      <td>100M Freestyle For Sailors</td>\n",
              "      <td>Bronze</td>\n",
              "    </tr>\n",
              "    <tr>\n",
              "      <th>3</th>\n",
              "      <td>1896</td>\n",
              "      <td>Athens</td>\n",
              "      <td>Aquatics</td>\n",
              "      <td>Swimming</td>\n",
              "      <td>MALOKINIS, Ioannis</td>\n",
              "      <td>GRE</td>\n",
              "      <td>Men</td>\n",
              "      <td>100M Freestyle For Sailors</td>\n",
              "      <td>Gold</td>\n",
              "    </tr>\n",
              "    <tr>\n",
              "      <th>4</th>\n",
              "      <td>1896</td>\n",
              "      <td>Athens</td>\n",
              "      <td>Aquatics</td>\n",
              "      <td>Swimming</td>\n",
              "      <td>CHASAPIS, Spiridon</td>\n",
              "      <td>GRE</td>\n",
              "      <td>Men</td>\n",
              "      <td>100M Freestyle For Sailors</td>\n",
              "      <td>Silver</td>\n",
              "    </tr>\n",
              "  </tbody>\n",
              "</table>\n",
              "</div>"
            ],
            "text/plain": [
              "   Year    City     Sport  ... Gender                       Event   Medal\n",
              "0  1896  Athens  Aquatics  ...    Men              100M Freestyle    Gold\n",
              "1  1896  Athens  Aquatics  ...    Men              100M Freestyle  Silver\n",
              "2  1896  Athens  Aquatics  ...    Men  100M Freestyle For Sailors  Bronze\n",
              "3  1896  Athens  Aquatics  ...    Men  100M Freestyle For Sailors    Gold\n",
              "4  1896  Athens  Aquatics  ...    Men  100M Freestyle For Sailors  Silver\n",
              "\n",
              "[5 rows x 9 columns]"
            ]
          },
          "metadata": {},
          "execution_count": 4
        }
      ]
    },
    {
      "cell_type": "markdown",
      "metadata": {
        "id": "4UoHJfBuoBU9"
      },
      "source": [
        "# **1. In how many cities Summer Olympics is held so far?**"
      ]
    },
    {
      "cell_type": "code",
      "metadata": {
        "colab": {
          "base_uri": "https://localhost:8080/",
          "height": 455
        },
        "id": "3xfMSxqYn6yS",
        "outputId": "c3dda45a-a465-4123-bc50-67b91d84829f"
      },
      "source": [
        "data = []\n",
        "for city in df['City'].unique():\n",
        "  count = 0\n",
        "  for year in df['Year'].unique():\n",
        "    if len(df[(df['City'] == city) & (df['Year'] == year)]) > 0:\n",
        "      count += 1\n",
        "  data.append([city, count])\n",
        "\n",
        "data = pd.DataFrame(data, columns = ['City', 'Number of held'])\n",
        "\n",
        "data= data.sort_values(by = 'Number of held', ascending = False)\n",
        "\n",
        "data.plot(x = 'City', y = 'Number of held', kind = 'bar', figsize= (20,5))"
      ],
      "execution_count": 5,
      "outputs": [
        {
          "output_type": "execute_result",
          "data": {
            "text/plain": [
              "<matplotlib.axes._subplots.AxesSubplot at 0x7fa52bcda610>"
            ]
          },
          "metadata": {},
          "execution_count": 5
        },
        {
          "output_type": "display_data",
          "data": {
            "image/png": "[encoded data removed]",
            "text/plain": [
              "<Figure size 1440x360 with 1 Axes>"
            ]
          },
          "metadata": {
            "needs_background": "light"
          }
        }
      ]
    },
    {
      "cell_type": "markdown",
      "metadata": {
        "id": "HBTpnql7raqu"
      },
      "source": [
        "# ***2. Which sport is having most number of Gold Medals so far?(Top 5) ***"
      ]
    },
    {
      "cell_type": "code",
      "metadata": {
        "colab": {
          "base_uri": "https://localhost:8080/",
          "height": 534
        },
        "id": "lk2HU_Lzrnsm",
        "outputId": "82086c4e-8741-4469-d001-2ca5e5269e4e"
      },
      "source": [
        "data = []\n",
        "for sport in df['Sport'].unique():\n",
        "  \n",
        "  data.append([sport, len(df[(df['Sport'] == sport) & (df['Medal'] == \"Gold\")])])\n",
        "\n",
        "data = pd.DataFrame(data, columns = ['Sport', 'Number of Gold Medals'])\n",
        "\n",
        "data= data.sort_values(by = 'Number of Gold Medals', ascending = False).head()\n",
        "print('**********Top 5 sports having most number of Gold Medals**********\\n')\n",
        "print(data)\n",
        "data.plot(x = 'Sport', y = 'Number of Gold Medals', kind = 'bar', figsize= (5,5))"
      ],
      "execution_count": 6,
      "outputs": [
        {
          "output_type": "stream",
          "name": "stdout",
          "text": [
            "**********Top 5 sports having most number of Gold Medals**********\n",
            "\n",
            "         Sport  Number of Gold Medals\n",
            "0     Aquatics                   1421\n",
            "1    Athletics                   1215\n",
            "17      Rowing                    890\n",
            "4   Gymnastics                    820\n",
            "3      Fencing                    552\n"
          ]
        },
        {
          "output_type": "execute_result",
          "data": {
            "text/plain": [
              "<matplotlib.axes._subplots.AxesSubplot at 0x7fa52bc69fd0>"
            ]
          },
          "metadata": {},
          "execution_count": 6
        },
        {
          "output_type": "display_data",
          "data": {
            "image/png": "[encoded data removed]",
            "text/plain": [
              "<Figure size 360x360 with 1 Axes>"
            ]
          },
          "metadata": {
            "needs_background": "light"
          }
        }
      ]
    },
    {
      "cell_type": "markdown",
      "metadata": {
        "id": "bv_zXI9St17F"
      },
      "source": [
        "# **3. Which sport is having most number of meals so far? (Top 5)**"
      ]
    },
    {
      "cell_type": "code",
      "metadata": {
        "colab": {
          "base_uri": "https://localhost:8080/",
          "height": 534
        },
        "id": "nNVrNSQcpGXZ",
        "outputId": "a4a251b4-1ee2-4a06-d1c2-eb0435cd850d"
      },
      "source": [
        "data = []\n",
        "\n",
        "for sport in df['Sport'].unique():\n",
        "    data.append([sport , len(df[(df['Sport'] == sport)])])\n",
        "\n",
        "data = pd.DataFrame(data,columns = ['Sport','No. of medals'])\n",
        "\n",
        "data = data.sort_values(by='No. of medals', ascending=False).head()\n",
        "print(\"**********Top-5 sports having most number of Medals**********\\n\")\n",
        "print(data)\n",
        "data.plot(x = 'Sport', y = 'No. of medals', kind = 'bar', figsize = (5,5))"
      ],
      "execution_count": 9,
      "outputs": [
        {
          "output_type": "stream",
          "name": "stdout",
          "text": [
            "-------------Top-5 sports having most number of Medals-------------\n",
            "\n",
            "         Sport  No. of medals\n",
            "0     Aquatics           4170\n",
            "1    Athletics           3638\n",
            "17      Rowing           2667\n",
            "4   Gymnastics           2307\n",
            "3      Fencing           1613\n"
          ]
        },
        {
          "output_type": "execute_result",
          "data": {
            "text/plain": [
              "<matplotlib.axes._subplots.AxesSubplot at 0x7fa52bc0a210>"
            ]
          },
          "metadata": {},
          "execution_count": 9
        },
        {
          "output_type": "display_data",
          "data": {
            "image/png": "[encoded data removed]",
            "text/plain": [
              "<Figure size 360x360 with 1 Axes>"
            ]
          },
          "metadata": {
            "needs_background": "light"
          }
        }
      ]
    },
    {
      "cell_type": "markdown",
      "metadata": {
        "id": "SNP0KGXsv8aH"
      },
      "source": [
        "# **4. Which player has won most number of medals? (Top 5)**"
      ]
    },
    {
      "cell_type": "code",
      "metadata": {
        "colab": {
          "base_uri": "https://localhost:8080/",
          "height": 592
        },
        "id": "WRmYTdhfuY6j",
        "outputId": "686a9995-6c52-4c6c-ebbc-1dcb02e4d84f"
      },
      "source": [
        "\n",
        "data = []\n",
        "\n",
        "for athlete in df['Athlete'].unique():\n",
        "    data.append([athlete , len(df[(df['Athlete'] == athlete)])])\n",
        "\n",
        "data = pd.DataFrame(data,columns = ['Athlete','No. of medals'])\n",
        "\n",
        "data = data.sort_values(by='No. of medals', ascending=False).head()\n",
        "\n",
        "print(\"**********Top-5 Players having most number of Medals**********\\n\")\n",
        "print(data)\n",
        "data.plot(x = 'Athlete', y = 'No. of medals', kind = 'bar', figsize = (5,5))"
      ],
      "execution_count": 11,
      "outputs": [
        {
          "output_type": "stream",
          "name": "stdout",
          "text": [
            "-----------------Top-5 Players having most number of Medals---------------\n",
            "\n",
            "                    Athlete  No. of medals\n",
            "18640       PHELPS, Michael             22\n",
            "7197       LATYNINA, Larisa             18\n",
            "9948     ANDRIANOV, Nikolay             15\n",
            "6591           ONO, Takashi             13\n",
            "5103   MANGIAROTTI, Edoardo             13\n"
          ]
        },
        {
          "output_type": "execute_result",
          "data": {
            "text/plain": [
              "<matplotlib.axes._subplots.AxesSubplot at 0x7fa52b6fcf10>"
            ]
          },
          "metadata": {},
          "execution_count": 11
        },
        {
          "output_type": "display_data",
          "data": {
            "image/png": "[encoded data removed]",
            "text/plain": [
              "<Figure size 360x360 with 1 Axes>"
            ]
          },
          "metadata": {
            "needs_background": "light"
          }
        }
      ]
    },
    {
      "cell_type": "markdown",
      "metadata": {
        "id": "1l9TRuA1jcSi"
      },
      "source": [
        "# **5. Which palyer has won most number of Gold Medals of medals? (Top 5)**"
      ]
    },
    {
      "cell_type": "code",
      "metadata": {
        "colab": {
          "base_uri": "https://localhost:8080/",
          "height": 560
        },
        "id": "EJWdo9YTjspj",
        "outputId": "c67c26e7-0fb8-44d1-ef46-5b7a713ab08c"
      },
      "source": [
        "data = []\n",
        "\n",
        "for athlete in df['Athlete'].unique():\n",
        "    data.append([athlete , len(df[(df['Athlete'] == athlete) & (df['Medal'] == 'Gold')])])\n",
        "\n",
        "data = pd.DataFrame(data,columns = ['Athlete','No. of gold medals'])\n",
        "\n",
        "data = data.sort_values(by='No. of gold medals', ascending=False).head()\n",
        "\n",
        "print(\"**********Top-5 Players having most number of Medals**********n\")\n",
        "print(data)\n",
        "data.plot(x = 'Athlete', y = 'No. of gold medals', kind = 'bar', figsize = (5,5))"
      ],
      "execution_count": 13,
      "outputs": [
        {
          "output_type": "stream",
          "name": "stdout",
          "text": [
            "-----------------Top-5 Players having most number of Medals---------------\n",
            "\n",
            "                Athlete  No. of gold medals\n",
            "18640   PHELPS, Michael                  18\n",
            "12468       LEWIS, Carl                   9\n",
            "8811        SPITZ, Mark                   9\n",
            "2262       NURMI, Paavo                   9\n",
            "7197   LATYNINA, Larisa                   9\n"
          ]
        },
        {
          "output_type": "execute_result",
          "data": {
            "text/plain": [
              "<matplotlib.axes._subplots.AxesSubplot at 0x7fa52b6d9750>"
            ]
          },
          "metadata": {},
          "execution_count": 13
        },
        {
          "output_type": "display_data",
          "data": {
            "image/png": "[encoded data removed]",
            "text/plain": [
              "<Figure size 360x360 with 1 Axes>"
            ]
          },
          "metadata": {
            "needs_background": "light"
          }
        }
      ]
    },
    {
      "cell_type": "markdown",
      "metadata": {
        "id": "qOEqlfAOlMIU"
      },
      "source": [
        "# ***6. In which year India won first Gold Medal in Summer Olympics? ***"
      ]
    },
    {
      "cell_type": "code",
      "metadata": {
        "colab": {
          "base_uri": "https://localhost:8080/",
          "height": 870
        },
        "id": "Z-IJ_Mq7kQjn",
        "outputId": "9042efb1-f825-4c3a-fbde-6acb537920c3"
      },
      "source": [
        "data = []\n",
        "\n",
        "for year in df['Year'].unique():\n",
        "    data.append([year , len(df[(df['Year'] == year) & (df['Medal'] == 'Gold') & (df['Country'] == 'IND')])])\n",
        "\n",
        "data = pd.DataFrame(data,columns = ['Year','Gold'])\n",
        "\n",
        "data = data.sort_values(by='Year', ascending=False)\n",
        "\n",
        "print(\"**********India won Gold Meddal in SUmmer Olympics**********\\n\")\n",
        "print(data)\n",
        "data.plot(x = 'Year', y = 'Gold', kind = 'bar', figsize = (15,5))"
      ],
      "execution_count": 17,
      "outputs": [
        {
          "output_type": "stream",
          "name": "stdout",
          "text": [
            "**********India won Gold Meddal in SUmmer Olympics**********\n",
            "\n",
            "    Year  Gold\n",
            "26  2012     0\n",
            "25  2008     1\n",
            "24  2004     0\n",
            "23  2000     0\n",
            "22  1996     0\n",
            "21  1992     0\n",
            "20  1988     0\n",
            "19  1984     0\n",
            "18  1980    16\n",
            "17  1976     0\n",
            "16  1972     0\n",
            "15  1968     0\n",
            "14  1964    15\n",
            "13  1960     0\n",
            "12  1956    17\n",
            "11  1952    14\n",
            "10  1948    20\n",
            "9   1936    19\n",
            "8   1932    11\n",
            "7   1928    15\n",
            "6   1924     0\n",
            "5   1920     0\n",
            "4   1912     0\n",
            "3   1908     0\n",
            "2   1904     0\n",
            "1   1900     0\n",
            "0   1896     0\n"
          ]
        },
        {
          "output_type": "execute_result",
          "data": {
            "text/plain": [
              "<matplotlib.axes._subplots.AxesSubplot at 0x7fa5268b6750>"
            ]
          },
          "metadata": {},
          "execution_count": 17
        },
        {
          "output_type": "display_data",
          "data": {
            "image/png": "[encoded data removed]",
            "text/plain": [
              "<Figure size 1080x360 with 1 Axes>"
            ]
          },
          "metadata": {
            "needs_background": "light"
          }
        }
      ]
    },
    {
      "cell_type": "markdown",
      "metadata": {
        "id": "1KAFOl4ym8C9"
      },
      "source": [
        "# **7. Which event is most popular in terms on number of players? (Top 5)**"
      ]
    },
    {
      "cell_type": "code",
      "metadata": {
        "colab": {
          "base_uri": "https://localhost:8080/",
          "height": 566
        },
        "id": "oXBkEkkKmRD-",
        "outputId": "5186da18-f8c5-4eac-e676-9f8992412a97"
      },
      "source": [
        "data = []\n",
        "\n",
        "for event in df['Event'].unique():\n",
        "    data.append([event , len(df[(df['Event'] == event)])])\n",
        "\n",
        "data = pd.DataFrame(data,columns = ['Event','Atheletes'])\n",
        "\n",
        "data = data.sort_values(by='Atheletes', ascending=False).head()\n",
        "\n",
        "print(\"**********Top-5 most popular events in termaa on number of players**********\\n\")\n",
        "print(data)\n",
        "data.plot(x = 'Event', y = 'Atheletes', kind = 'bar', figsize = (10,5))"
      ],
      "execution_count": 22,
      "outputs": [
        {
          "output_type": "stream",
          "name": "stdout",
          "text": [
            "**********Top-5 most popular events in termaa on number of players**********\n",
            "\n",
            "                Event  Atheletes\n",
            "80           Football       1497\n",
            "176            Hockey       1422\n",
            "138  Team Competition       1147\n",
            "327        Basketball       1012\n",
            "337          Handball        973\n"
          ]
        },
        {
          "output_type": "execute_result",
          "data": {
            "text/plain": [
              "<matplotlib.axes._subplots.AxesSubplot at 0x7fa523e8de10>"
            ]
          },
          "metadata": {},
          "execution_count": 22
        },
        {
          "output_type": "display_data",
          "data": {
            "image/png": "[encoded data removed]",
            "text/plain": [
              "<Figure size 720x360 with 1 Axes>"
            ]
          },
          "metadata": {
            "needs_background": "light"
          }
        }
      ]
    },
    {
      "cell_type": "markdown",
      "metadata": {
        "id": "yhiMd1CroYFX"
      },
      "source": [
        "# **8. Which sport is having most female Gold Medalists? (Top 5)**"
      ]
    },
    {
      "cell_type": "code",
      "metadata": {
        "colab": {
          "base_uri": "https://localhost:8080/",
          "height": 534
        },
        "id": "cocHVS3mnq-6",
        "outputId": "75ff6926-9c22-4a6b-e03f-50449cf3e7b6"
      },
      "source": [
        "data = []\n",
        "\n",
        "for sport in df['Sport'].unique():\n",
        "    data.append([sport , len(df[(df['Sport'] == sport) & (df['Medal'] == \"Gold\") & (df['Gender'] == \"Women\")])])\n",
        "\n",
        "data = pd.DataFrame(data,columns = ['Sport','No. of female athletes'])\n",
        "\n",
        "data = data.sort_values(by='No. of female athletes', ascending=False).head()\n",
        "\n",
        "print(\"**********Top-5 sport that havinf most female Gold Medalists**********\\n\")\n",
        "print(data)\n",
        "data.plot(x = 'Sport', y = 'No. of female athletes', kind = 'bar', figsize = (10,5))"
      ],
      "execution_count": 24,
      "outputs": [
        {
          "output_type": "stream",
          "name": "stdout",
          "text": [
            "**********Top-5 sport that havinf most female Gold Medalists**********\n",
            "\n",
            "         Sport  No. of female athletes\n",
            "0     Aquatics                     589\n",
            "1    Athletics                     389\n",
            "4   Gymnastics                     268\n",
            "17      Rowing                     217\n",
            "35  Volleyball                     166\n"
          ]
        },
        {
          "output_type": "execute_result",
          "data": {
            "text/plain": [
              "<matplotlib.axes._subplots.AxesSubplot at 0x7fa523c9afd0>"
            ]
          },
          "metadata": {},
          "execution_count": 24
        },
        {
          "output_type": "display_data",
          "data": {
            "image/png": "[encoded data removed]",
            "text/plain": [
              "<Figure size 720x360 with 1 Axes>"
            ]
          },
          "metadata": {
            "needs_background": "light"
          }
        }
      ]
    },
    {
      "cell_type": "code",
      "metadata": {
        "id": "WqicalYLpVpi"
      },
      "source": [
        ""
      ],
      "execution_count": null,
      "outputs": []
    }
  ]
}